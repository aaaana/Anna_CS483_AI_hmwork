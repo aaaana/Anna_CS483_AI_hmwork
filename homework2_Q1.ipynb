{
  "nbformat": 4,
  "nbformat_minor": 0,
  "metadata": {
    "colab": {
      "name": "homework2_Q1.ipynb",
      "provenance": [],
      "toc_visible": true,
      "authorship_tag": "ABX9TyPQ3MvOS/0lFWVusiULfO1M",
      "include_colab_link": true
    },
    "kernelspec": {
      "name": "python3",
      "display_name": "Python 3"
    },
    "language_info": {
      "name": "python"
    }
  },
  "cells": [
    {
      "cell_type": "markdown",
      "metadata": {
        "id": "view-in-github",
        "colab_type": "text"
      },
      "source": [
        "<a href=\"https://colab.research.google.com/github/aaaana/Anna_CS483_AI_hmwork/blob/main/homework2_Q1.ipynb\" target=\"_parent\"><img src=\"https://colab.research.google.com/assets/colab-badge.svg\" alt=\"Open In Colab\"/></a>"
      ]
    },
    {
      "cell_type": "code",
      "execution_count": 2,
      "metadata": {
        "colab": {
          "base_uri": "https://localhost:8080/"
        },
        "id": "Z82GuPydYGtj",
        "outputId": "32e5f265-90cd-43a5-e619-534800865b8f"
      },
      "outputs": [
        {
          "output_type": "stream",
          "name": "stdout",
          "text": [
            "Theta 0 = 0.11\n",
            "Theta 1 = 1.42\n"
          ]
        },
        {
          "output_type": "execute_result",
          "data": {
            "text/plain": [
              "(0.11, 1.42)"
            ]
          },
          "metadata": {},
          "execution_count": 2
        }
      ],
      "source": [
        "\"\"\"\n",
        "Homework#2 Question1 \n",
        "From the following dataset with one feature X, please write python program to \n",
        "implement linear regression in Normal Equation to find . After that, \n",
        "plot (X,Y) points and fitting curve in excel or matplotlib python function \n",
        "\"\"\"\n",
        "import numpy as np\n",
        "\n",
        "#cost function\n",
        "#differential partial derivitive\n",
        "def pTheta(theta0,theta1, x, y):\n",
        "  pTh0 = 0\n",
        "  pTh1 = 0\n",
        "  for i in range(0, len(x)):\n",
        "    pTh0 += (theta0 + theta1 * x[i] - y[i]) * 1\n",
        "    pTh1 += (theta0 + theta1 * x[i] - y[i]) * x[i]\n",
        "  return (pTh0/len(x), pTh1/len(x))\n",
        "\n",
        "\n",
        "#Gradient descent method\n",
        "def theta (theta0, theta1, alpha, iteration, x, y):\n",
        "  (der_t0, der_t1) = pTheta(theta0,theta1, x, y)\n",
        "  theta_0, theta_1 = theta0, theta1\n",
        "  for i in range(iteration):\n",
        "    theta_0=theta0-alpha*der_t0\n",
        "    theta_1=theta1-alpha*der_t1\n",
        "    (der_t0, der_t1) = pTheta(theta0, theta1, x, y)\n",
        "    \n",
        "  print (\"Theta 0 =\", theta_0)\n",
        "  print (\"Theta 1 =\", theta_1)\n",
        "  return (theta_0, theta_1)\n",
        "#h(theta) = theta0 + theta1*x\n",
        "x = (1, 3, 5, 7, 9, 11, 13, 15, 17, 19)\n",
        "y = (3, 3, 7, 7, 11, 11, 15, 15, 19, 19)\n",
        "\n",
        "theta(0, 0, 0.01, 10000, x, y)\n",
        "\n"
      ]
    },
    {
      "cell_type": "code",
      "source": [
        "\"\"\"\n",
        "Plot (x, y)\n",
        "\"\"\"\n",
        "import pandas as pd\n",
        "import matplotlib.pyplot as plt\n",
        "import numpy as np\n",
        "\n",
        "#create DataFrame\n",
        "df = pd.DataFrame({'x': [1, 3, 5, 7, 9, 11, 13, 15, 17, 19],\n",
        "                   'y': [3, 3, 7, 7, 11, 11, 15, 15, 19, 19]})\n",
        "\n",
        "#fit polynomial model 1\n",
        "model1 = np.poly1d(np.polyfit(df.x, df.y, 1))\n",
        "print(\"The graph is: \")\n",
        "polyline = np.linspace(1, 20, 50)\n",
        "plt.scatter(df.x, df.y)\n",
        "plt.plot(polyline, model1(polyline), color='green')\n",
        "plt.show()"
      ],
      "metadata": {
        "colab": {
          "base_uri": "https://localhost:8080/",
          "height": 282
        },
        "id": "CHco-uC8i32L",
        "outputId": "4146a26d-dbc1-435d-a2e4-a65a7bec357b"
      },
      "execution_count": 3,
      "outputs": [
        {
          "output_type": "stream",
          "name": "stdout",
          "text": [
            "The graph is: \n"
          ]
        },
        {
          "output_type": "display_data",
          "data": {
            "text/plain": [
              "<Figure size 432x288 with 1 Axes>"
            ],
            "image/png": "[encoded data removed]"
          },
          "metadata": {
            "needs_background": "light"
          }
        }
      ]
    },
    {
      "cell_type": "code",
      "source": [],
      "metadata": {
        "id": "MEHaF31YjUn_"
      },
      "execution_count": null,
      "outputs": []
    }
  ]
}