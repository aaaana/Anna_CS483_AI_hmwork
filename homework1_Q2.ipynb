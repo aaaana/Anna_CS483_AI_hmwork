{
  "nbformat": 4,
  "nbformat_minor": 0,
  "metadata": {
    "colab": {
      "name": "homework1_q2.ipynb",
      "provenance": [],
      "toc_visible": true
    },
    "kernelspec": {
      "name": "python3",
      "display_name": "Python 3"
    },
    "language_info": {
      "name": "python"
    }
  },
  "cells": [
    {
      "cell_type": "code",
      "execution_count": 5,
      "metadata": {
        "colab": {
          "base_uri": "https://localhost:8080/"
        },
        "id": "CikrZXUwVC3a",
        "outputId": "08f94859-0f0e-42b1-d882-e450e1b888c2"
      },
      "outputs": [
        {
          "output_type": "stream",
          "name": "stdout",
          "text": [
            "Theta_0 = 0.485\n",
            "Theta_1 = 3.73\n",
            "Theta_2 = 30.888\n"
          ]
        }
      ],
      "source": [
        "\"\"\"Homework#1 Question2: Assuming that Y is the function of X in the following training set, please try to \n",
        "take second-order hypothesis function to fit (X,Y) coordinate points by curve Y = f(X). \n",
        "Before writing python program to implement regression by gradient descent algorithm, hypothesis \n",
        "function/loss function/cost function are needed for getting all the parameters θs in hypothesis. \n",
        "After training regression module, plot (X,Y) points and the fitting curve by matplotlib python functions\"\"\" \n",
        "\n",
        "import numpy as np\n",
        "\n",
        "#cost function\n",
        "#differential partial derivitive\n",
        "def pTheta(theta0, theta1, theta2, x, y):\n",
        "  pTh0 = 0\n",
        "  pTh1 = 0\n",
        "  pTh2 = 0\n",
        "  for i in range(0, len(x)):\n",
        "    pTh0 += (theta0 + theta1 * x[i] + theta2 * x[i]**2 - y[i]) * 1\n",
        "    pTh1 += (theta0 + theta1 * x[i] + theta2 * x[i]**2 - y[i]) * x[i]\n",
        "    pTh2 += (theta0 + theta1 * x[i] + theta2 * x[i]**2 - y[i]) * x[i]**2\n",
        "  return (pTh0/len(x), pTh1/len(x), pTh2/len(x))\n",
        "\n",
        "\n",
        "#Gradient descent method\n",
        "def theta (theta0, theta1, theta2, alpha, iteration, x, y):\n",
        "  (der_t0, der_t1, der_t2) = pTheta(theta0, theta1, theta2, x, y)\n",
        "  theta_0, theta_1, theta_2 = theta0, theta1, theta2\n",
        "  for i in range(iteration):\n",
        "    theta_0=theta0-alpha*der_t0\n",
        "    theta_1=theta1-alpha*der_t1\n",
        "    theta_2=theta2-alpha*der_t2\n",
        "    (der_t0, der_t1, der_t2) = pTheta(theta0, theta1, theta2, x, y)\n",
        "  return (theta_0, theta_1, theta_2)\n",
        "\n",
        "\n",
        "#h(theta) = theta0 + theta1*x+ theta2*x^2\n",
        "x = (1, 2, 3, 4, 5 ,6 ,7 ,8 ,9, 10)\n",
        "y = (4, 5, 16, 21, 36, 45, 64, 77, 100, 117, 144)\n",
        "\n",
        "t = theta(0, 0, 0, 0.01, 10000, x, y)\n",
        "\n",
        "print(\"Theta_0 =\",t[0])\n",
        "print(\"Theta_1 =\",t[1])\n",
        "print(\"Theta_2 =\",t[2])"
      ]
    },
    {
      "cell_type": "code",
      "source": [
        "import numpy as np\n",
        "\n",
        "#cost function\n",
        "#differential partial derivitive\n",
        "def pTheta(theta0, theta1, theta2, x, y):\n",
        "  pTh0 = 0\n",
        "  pTh1 = 0\n",
        "  pTh2 = 0\n",
        "  for i in range(0, len(x)):\n",
        "    pTh0 += (theta0 + theta1 * x[i] + theta2 * x[i]**2 - y[i]) * 1\n",
        "    pTh1 += (theta0 + theta1 * x[i] + theta2 * x[i]**2 - y[i]) * x[i]\n",
        "    pTh2 += (theta0 + theta1 * x[i] + theta2 * x[i]**2 - y[i]) * x[i]**2\n",
        "  return (pTh0/len(x), pTh1/len(x), pTh2/len(x))\n",
        "\n",
        "\n",
        "#Gradient descent method\n",
        "def theta (theta0, theta1, theta2, alpha, iteration, x, y):\n",
        "  (der_t0, der_t1, der_t2) = pTheta(theta0, theta1, theta2, x, y)\n",
        "  theta_0, theta_1, theta_2 = theta0, theta1, theta2\n",
        "  for i in range(iteration):\n",
        "    theta_0=theta0-alpha*der_t0\n",
        "    theta_1=theta1-alpha*der_t1\n",
        "    theta_2=theta2-alpha*der_t2\n",
        "    (der_t0, der_t1, der_t2) = pTheta(theta0, theta1, theta2, x, y)\n",
        "  return (theta_0, theta_1, theta_2)\n",
        "\n",
        "\n",
        "#h(theta) = theta0 + theta1*x+ theta2*x^2\n",
        "x = (1, 2, 3, 4, 5 ,6 ,7 ,8 ,9, 10)\n",
        "y = (4, 5, 16, 21, 36, 45, 64, 77, 100, 117, 144)\n",
        "\n",
        "t = theta(0, 0, 0, 0.01, 10000, x, y)\n",
        "\n",
        "print(\"Theta_0 =\",t[0])\n",
        "print(\"Theta_1 =\",t[1])\n",
        "print(\"Theta_2 =\",t[2])"
      ],
      "metadata": {
        "colab": {
          "base_uri": "https://localhost:8080/"
        },
        "id": "kX5Vo0EiVjXC",
        "outputId": "8b14360f-459b-4880-ba3d-e9c1cdf3b0c9"
      },
      "execution_count": 2,
      "outputs": [
        {
          "output_type": "stream",
          "name": "stdout",
          "text": [
            "Theta_0 = 0.485\n",
            "Theta_1 = 3.73\n",
            "Theta_2 = 30.888\n"
          ]
        }
      ]
    },
    {
      "cell_type": "code",
      "source": [
        "import numpy as np\n",
        "import matplotlib.pyplot as plt\n",
        "x = [0,1,2,3,4,5,6,7,8,9,10]\n",
        "y = [4,5,16,21,36,45,64,77,100,117,144]\n",
        "\n",
        "#fit second-degree polynomial\n",
        "model2 = np.poly1d(np.polyfit(x, y, 2))\n",
        "\n",
        "#define scatterplot\n",
        "polyline = np.linspace(1, 15, 50)\n",
        "plt.scatter(x, y, label='skitscat', color='k', marker='o', s=100)\n",
        "\n",
        "#add fitted polynomial curve to scatterplot\n",
        "plt.plot(polyline, model2(polyline), '-', color='red')\n",
        "plt.xlabel('x')\n",
        "plt.ylabel('y')\n",
        "plt.title('Plot x and y')\t\n",
        "plt.legend()\n",
        "plt.show()"
      ],
      "metadata": {
        "colab": {
          "base_uri": "https://localhost:8080/",
          "height": 295
        },
        "id": "Q-AifASGaQ4t",
        "outputId": "4ee67b0d-4b7a-4250-86a2-5f8fa70e6e98"
      },
      "execution_count": 6,
      "outputs": [
        {
          "output_type": "display_data",
          "data": {
            "text/plain": [
              "<Figure size 432x288 with 1 Axes>"
            ],
            "image/png": "[encoded data removed]"
          },
          "metadata": {
            "needs_background": "light"
          }
        }
      ]
    }
  ]
}