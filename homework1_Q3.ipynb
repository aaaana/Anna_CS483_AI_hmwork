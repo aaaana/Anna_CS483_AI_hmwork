{
  "nbformat": 4,
  "nbformat_minor": 0,
  "metadata": {
    "colab": {
      "name": "homework1_Q3.ipynb",
      "provenance": [],
      "toc_visible": true
    },
    "kernelspec": {
      "name": "python3",
      "display_name": "Python 3"
    },
    "language_info": {
      "name": "python"
    }
  },
  "cells": [
    {
      "cell_type": "code",
      "source": [
        "#Homework#1 Question3\n",
        "import numpy as np\n",
        "from numpy.linalg import inv\n",
        "x = (0, 1, 2, 3, 4, 5 ,6 ,7 ,8 ,9, 10)\n",
        "y = (4, 5, 16, 21, 36, 45, 64, 77, 100, 117, 144)\n",
        "X=np.array([[1,x[0],x[0]**2],\n",
        "            [1,x[1],x[1]**2],\n",
        "            [1,x[2],x[2]**2],\n",
        "            [1,x[3],x[3]**2],\n",
        "            [1,x[4],x[4]**2],\n",
        "            [1,x[5],x[5]**2],\n",
        "            [1,x[6],x[6]**2],\n",
        "            [1,x[7],x[7]**2],\n",
        "            [1,x[8],x[8]**2],\n",
        "            [1,x[9],x[9]**2],\n",
        "            [1,x[10],x[10]**2]], dtype=np.float64)\n",
        "Y=np.array([[y[0]],[y[1]],[y[2]],[y[3]],[y[4]],[y[5]],[y[6]],[y[7]],[y[8]],[y[9]], [y[10]]],dtype=np.float64)\n",
        "\n",
        "#theta = (X.trans * X).reverse* X.tans*Y\n",
        "XT=X.transpose()\n",
        "print(XT)\n",
        "a = np.dot(XT , X)\n",
        "a = inv(a)\n",
        "#print(a)\n",
        "\n",
        "a = np.dot(a, XT)\n",
        "#print(a)\n",
        "\n",
        "a = np.dot(a, Y)\n",
        "print(\"Theta is: \\n\", a)"
      ],
      "metadata": {
        "colab": {
          "base_uri": "https://localhost:8080/"
        },
        "id": "AoNit63HWayO",
        "outputId": "4aa49d82-564a-46e3-ba48-f22bf8d7f6be"
      },
      "execution_count": 1,
      "outputs": [
        {
          "output_type": "stream",
          "name": "stdout",
          "text": [
            "[[  1.   1.   1.   1.   1.   1.   1.   1.   1.   1.   1.]\n",
            " [  0.   1.   2.   3.   4.   5.   6.   7.   8.   9.  10.]\n",
            " [  0.   1.   4.   9.  16.  25.  36.  49.  64.  81. 100.]]\n",
            "Theta is: \n",
            " [[2.88111888]\n",
            " [3.53379953]\n",
            " [1.04662005]]\n"
          ]
        }
      ]
    }
  ]
}