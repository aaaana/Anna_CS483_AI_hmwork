{
  "nbformat": 4,
  "nbformat_minor": 0,
  "metadata": {
    "colab": {
      "name": "homework2_Q2.ipynb",
      "provenance": [],
      "authorship_tag": "ABX9TyNhK+D7fkMs/fuuuR25Yx7y",
      "include_colab_link": true
    },
    "kernelspec": {
      "name": "python3",
      "display_name": "Python 3"
    },
    "language_info": {
      "name": "python"
    }
  },
  "cells": [
    {
      "cell_type": "markdown",
      "metadata": {
        "id": "view-in-github",
        "colab_type": "text"
      },
      "source": [
        "<a href=\"https://colab.research.google.com/github/aaaana/Anna_CS483_AI_hmwork/blob/main/homework2_Q2.ipynb\" target=\"_parent\"><img src=\"https://colab.research.google.com/assets/colab-badge.svg\" alt=\"Open In Colab\"/></a>"
      ]
    },
    {
      "cell_type": "code",
      "execution_count": 2,
      "metadata": {
        "colab": {
          "base_uri": "https://localhost:8080/",
          "height": 507
        },
        "id": "xMNMHkJyksNg",
        "outputId": "0cd273cb-b6c1-4788-907d-52578f48c98a"
      },
      "outputs": [
        {
          "output_type": "stream",
          "name": "stdout",
          "text": [
            "\n",
            "Theta  0  =  0.24437650818921505\n",
            "Theta  1  =  1.4557222010471353\n",
            "Theta  2  =  0.26674974808307605\n",
            "Theta  3  =  0.6865478267824288\n",
            "Theta  4  =  0.24576865510395662\n",
            "Theta  5  =  0.9296952115684864\n",
            "Theta  6  =  0.24735586450191002\n",
            "Theta  7  =  0.9913824639032502\n",
            "Theta  8  =  0.2465957272280763\n",
            "\n"
          ]
        },
        {
          "output_type": "display_data",
          "data": {
            "text/plain": [
              "<Figure size 432x288 with 1 Axes>"
            ],
            "image/png": "[encoded data removed]"
          },
          "metadata": {
            "needs_background": "light"
          }
        },
        {
          "output_type": "stream",
          "name": "stdout",
          "text": [
            "First predition result:  Class 4\n",
            "Second predition result:  Class 4\n"
          ]
        }
      ],
      "source": [
        "\"\"\"\n",
        "Homework#2 Question2\n",
        "Create hypothesis function/loss function/cost function for binary classification, \n",
        "and train your module by python program based on gradient descent algorithm from \n",
        "he following breast cancer dataset. After that, predict which class of last two \n",
        "records (highlighted in red color) is \n",
        "\"\"\"\n",
        "\n",
        "from sklearn.datasets import make_classification\n",
        "from matplotlib import pyplot as plt\n",
        "from sklearn.linear_model import LogisticRegression\n",
        "from sklearn.model_selection import train_test_split\n",
        "from sklearn.metrics import confusion_matrix\n",
        "import pandas as pd\n",
        "import numpy as np\n",
        "\n",
        "data = pd.DataFrame()\n",
        "\n",
        "data['x1']=[8,5,1,8,7,4,4,10,6,7,10,3,8,1,5,3,5,2,1,3,2,10,2,3,2,10,6,5,2,10,6,5]\n",
        "data['x2']=[10,3,1,7,4,1,1,7,1,3,5,1,4,1,2,2,1,1,1,1,1,7,1,1,1,10,2,4,5,4,10,6]\n",
        "data['x3']=[10,3,1,5,6,1,1,7,1,2,5,1,5,1,3,1,1,1,3,1,1,7,1,2,1,10,1,4,3,3,10,5]\n",
        "data['x4']=[8,3,1,10,4,1,1,6,1,10,3,1,1,1,4,1,1,1,1,1,1,3,2,1,1,8,1,9,3,1,2,6]\n",
        "data['x5']=[7,2,2,7,6,2,2,4,2,5,6,2,2,2,2,1,2,2,2,1,2,8,2,2,2,6,1,2,6,3,8,10]\n",
        "data['x6']=[10,3,3,9,1,1,1,10,1,10,7,1,5,1,7,1,1,1,1,1,1,5,1,1,1,1,1,10,7,3,10,1]\n",
        "data['x7']=[9,4,3,5,4,2,3,4,3,5,7,2,7,3,3,2,2,2,1,2,3,7,3,2,2,8,7,5,7,6,7,3]\n",
        "data['x8']=[7,4,1,5,3,1,1,1,1,4,10,1,3,1,6,1,1,1,1,1,1,4,1,1,1,9,1,6,5,5,3,1]\n",
        "data['x9']=[1,1,1,4,1,1,1,2,1,4,1,1,1,1,1,1,1,1,1,1,1,3,1,1,1,1,1,1,1,2,3,1]\n",
        "data['y']=[4,4,2,4,4,2,2,4,2,4,4,2,4,2,4,2,2,2,2,2,2,4,2,2,2,4,2,4,4,4,4,4]\n",
        "#data['y']=[1,1,0,1,1,0,0,1,0,1,1,0,1,0,1,0,0,0,0,0,0,1,0,0,0,1,0,1,1,1,1,1]\n",
        "\n",
        "#print(data)\n",
        "#sns.pairplot(data, hue='y')\n",
        "\n",
        "from sklearn.model_selection import train_test_split\n",
        "# 80% train\n",
        "train, test= train_test_split(data.values, test_size=0.2)\n",
        "from math import exp\n",
        "# for general cases of n features (linear z)\n",
        "def predict(row, theta):\n",
        "  x = row [0:9]\n",
        "  #hypothesis function\n",
        "  yhat = theta[0]\n",
        "  for i, xi in enumerate(x):\n",
        "    yhat += theta[i+1]*xi\n",
        "  return 1.0 / (1.0 + exp(-yhat))\n",
        "\n",
        "l_rate = 0.3\n",
        "n_iter = 100\n",
        "nd = 9\n",
        "\n",
        "#loss function\n",
        "loss = np.zeros(n_iter)\n",
        "theta = [0.0]*(nd+1)\n",
        "for iter in range(n_iter):\n",
        "  sum_error = 0\n",
        "  for row in train:\n",
        "    x = row[0:-1]\n",
        "    y = row[-1] #last column in matrix\n",
        "    yhat = predict(row, theta)\n",
        "    error = y-yhat\n",
        "    sum_error += error*2\n",
        "    theta[0] += l_rate*error*yhat*(1-yhat)\n",
        "    for i in range (nd):\n",
        "      theta[i+1] += l_rate*error*yhat*(1-yhat)*(x[i]**2)\n",
        "  loss[iter] = sum_error\n",
        "\n",
        "print()\n",
        "for i in range(nd):\n",
        "  print(\"Theta \", i, \" = \", theta[i] )\n",
        "print()\n",
        "\n",
        "plt.plot(loss)\n",
        "plt.title('Curve for loss function')\n",
        "plt.show()\n",
        "\n",
        "def test(x, theta):\n",
        "  yhat = theta[0]\n",
        "  for i in range (len(x)-1):\n",
        "     yhat += theta[i+1]*(x[i]**2)\n",
        "  return yhat\n",
        "x_p1=[10,10,10,4,8,1,8, 10, 1]\n",
        "x_p2=[6,6,6,9,6,2,7,8,1]\n",
        "\n",
        "print(\"First predition result: \",\"Class 4\" if test(x_p1, theta)>0 else \"Class 2\")\n",
        "print(\"Second predition result: \",\"Class 4\" if test(x_p2, theta)>0 else \"Class 2\")"
      ]
    }
  ]
}