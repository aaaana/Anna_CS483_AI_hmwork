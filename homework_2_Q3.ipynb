{
  "nbformat": 4,
  "nbformat_minor": 0,
  "metadata": {
    "colab": {
      "name": "homework#2_Q3.ipynb",
      "provenance": [],
      "authorship_tag": "ABX9TyNuAnjsSrqBf3cyIv7SA19L",
      "include_colab_link": true
    },
    "kernelspec": {
      "name": "python3",
      "display_name": "Python 3"
    },
    "language_info": {
      "name": "python"
    }
  },
  "cells": [
    {
      "cell_type": "markdown",
      "metadata": {
        "id": "view-in-github",
        "colab_type": "text"
      },
      "source": [
        "<a href=\"https://colab.research.google.com/github/aaaana/Anna_CS483_AI_hmwork/blob/main/homework_2_Q3.ipynb\" target=\"_parent\"><img src=\"https://colab.research.google.com/assets/colab-badge.svg\" alt=\"Open In Colab\"/></a>"
      ]
    },
    {
      "cell_type": "code",
      "execution_count": 1,
      "metadata": {
        "colab": {
          "base_uri": "https://localhost:8080/",
          "height": 281
        },
        "id": "RHQTwPPwmLLy",
        "outputId": "0101e453-92db-49e6-c727-c54e8f8af2a5"
      },
      "outputs": [
        {
          "output_type": "display_data",
          "data": {
            "text/plain": [
              "<Figure size 432x288 with 1 Axes>"
            ],
            "image/png": "[encoded data removed]"
          },
          "metadata": {
            "needs_background": "light"
          }
        }
      ],
      "source": [
        "\"\"\"Homework#2 Question 3\n",
        "Given the following dataset, design python function as binary classifier for the \n",
        "following two classes. \n",
        "\t- Plot all points in two different classes first in Excel or python matplotlib functions\n",
        "\t- Observe what boundary decision function is good to separate two classes\n",
        "  - Build up hypothesis function/loss function/cost function based on your \n",
        "  selected   decision function\n",
        "  - Write python program to train your model\n",
        "  - After model training, plot decision boundary function in Excel or python \n",
        "  matplotlib functions\n",
        "\"\"\"\n",
        "\n",
        "import pandas as pd\n",
        "import numpy as np\n",
        "import matplotlib.pyplot as plt\n",
        "from sklearn.datasets import make_blobs\n",
        "import seaborn as sns\n",
        "\n",
        "data = pd.DataFrame()\n",
        "\n",
        "data['x1']=[-3.98, -3.464,3.461,-2.22,-2.02,-2.01,-1.42,-1.416,-1.09,-0.19,0.01,0.03,\n",
        "    0.04,0.06,0.07,0.12,1.11,1.411,1.414,1.86,1.96,2.11,3.461,3.464,4.12]\n",
        "data['x2']=[-0.12,-2.11,1.89,-3.474,0.03,3.459,-1.409,1.419,0.08,-4.13,1.02,-2.12,\n",
        "    2.06,3.97,0.1,-1.12,0.09,1.419,-1.415,3.47,-0.12,-3.472,-1.87,2.07,0.09]\n",
        "data['y']=[1,1,1,1,0,1,0,0,0,1,0,0,0,1,0,0,0,0,0,1,0,1,1,1,1]\n",
        "\n",
        "\n",
        "# Create a scatter plot\n",
        "plt.scatter(data.x1, data.x2, c=data.y, cmap='rainbow')\n",
        "plt.title('Scatter Plot of Logistic Regression')\n",
        "plt.show()\n",
        "#sns.pairplot(data, hue='y')\n"
      ]
    },
    {
      "cell_type": "code",
      "source": [
        "from sklearn.model_selection import train_test_split\n",
        "# 80% train\n",
        "train, test= train_test_split(data.values, test_size=0.2)"
      ],
      "metadata": {
        "id": "OB6jLQ8hmwCo"
      },
      "execution_count": 2,
      "outputs": []
    },
    {
      "cell_type": "code",
      "source": [
        "from math import exp\n",
        "\n",
        "def predict(row, theta):\n",
        "  x = row [0:2]\n",
        "  #hypothesis function\n",
        "  yhat = theta[0] + theta[1]*(x[0]**2) + theta[2]*(x[1]**2)\n",
        "  return 1.0 / (1.0 + exp(-yhat))\n",
        "\n",
        "l_rate = 0.3\n",
        "n_iter = 100\n",
        "\n",
        "#loss function\n",
        "loss = np.zeros(n_iter)\n",
        "theta = [0.0, 0.0, 0.0]\n",
        "for iter in range(n_iter):\n",
        "  sum_error = 0\n",
        "  for row in train:\n",
        "    x = row[0:-1]\n",
        "    y = row[-1] #last column in matrix\n",
        "    yhat = predict(row, theta)\n",
        "    error = y-yhat\n",
        "    sum_error += error*2\n",
        "    theta[0] += l_rate*error*yhat*(1-yhat)\n",
        "    theta[1] += l_rate*error*yhat*(1-yhat)*(x[0]**2)\n",
        "    theta[2] += l_rate*error*yhat*(1-yhat)*(x[1]**2)\n",
        "  loss[iter] = sum_error\n",
        "print()\n",
        "print(\"Theta 0 = \", theta[0])\n",
        "print(\"Theta 1 = \", theta[1])\n",
        "print(\"Theta 2 = \", theta[2])\n",
        "print()"
      ],
      "metadata": {
        "colab": {
          "base_uri": "https://localhost:8080/"
        },
        "id": "G3XbRo_0mxHb",
        "outputId": "a692e19d-735b-46c4-a70c-185a9f27a3b2"
      },
      "execution_count": 3,
      "outputs": [
        {
          "output_type": "stream",
          "name": "stdout",
          "text": [
            "\n",
            "Theta 0 =  -4.0470638646326185\n",
            "Theta 1 =  0.4535990263719086\n",
            "Theta 2 =  0.5046343469623124\n",
            "\n"
          ]
        }
      ]
    },
    {
      "cell_type": "code",
      "source": [
        "\n",
        "\n",
        "# #plot hypothesis function\n",
        "# from pylab import meshgrid, cm, imshow, contour, clabel, colorbar, axis, title, show\n",
        "\n",
        "# def hypothesis_func(x1, x2):\n",
        "#   return 1.0 / (1.0 + exp(-(theta[0] + theta[1]*(x1**2) + theta[2]*(x2**2))))\n",
        "\n",
        "# x1 = [-3.98, -3.464,3.461,-2.22,-2.02,-2.01,-1.42,-1.416,-1.09,-0.19,0.01,0.03,\n",
        "#     0.04,0.06,0.07,0.12,1.11,1.411,1.414,1.86,1.96,2.11,3.461,3.464,4.12]\n",
        "# x2 =[-0.12,-2.11,1.89,-3.474,0.03,3.459,-1.409,1.419,0.08,-4.13,1.02,-2.12,\n",
        "#     2.06,3.97,0.1,-1.12,0.09,1.419,-1.415,3.47,-0.12,-3.472,-1.87,2.07,0.09]\n",
        "# X1, X2 = meshgrid(x1, x2)\n",
        "# Y = hypothesis_func(X1, X2)\n",
        "# im = imshow(Y, cmap=cm.RdBu)\n",
        "\n",
        "# cset = contour(Y,arange(-1,1,0.1),linewidths=2,cmap=cm.Set2)\n",
        "# clabel(cset,inline=True,fmt='%1.1f',fontsize=10)\n",
        "# colorbar(im) # adding the colobar on the right\n",
        "# # latex fashion title\n",
        "# title('Hypothesis')\n",
        "# show()\n",
        "\n",
        "plt.plot(loss)\n",
        "plt.title('Curve for loss function')\n",
        "plt.show()\n"
      ],
      "metadata": {
        "colab": {
          "base_uri": "https://localhost:8080/",
          "height": 281
        },
        "id": "DSF8ABLpnCu_",
        "outputId": "f1f91996-3d70-4bc4-8c4d-6f86fa2d3eaa"
      },
      "execution_count": 4,
      "outputs": [
        {
          "output_type": "display_data",
          "data": {
            "text/plain": [
              "<Figure size 432x288 with 1 Axes>"
            ],
            "image/png": "[encoded data removed]"
          },
          "metadata": {
            "needs_background": "light"
          }
        }
      ]
    },
    {
      "cell_type": "code",
      "source": [],
      "metadata": {
        "id": "UV76bC-mnTGY"
      },
      "execution_count": null,
      "outputs": []
    }
  ]
}